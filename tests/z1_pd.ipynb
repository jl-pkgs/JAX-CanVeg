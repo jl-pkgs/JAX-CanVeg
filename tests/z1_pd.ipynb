{
 "cells": [
  {
   "cell_type": "code",
   "execution_count": 1,
   "id": "c08571de-b75d-4405-a869-cbf8f4d5016f",
   "metadata": {},
   "outputs": [
    {
     "name": "stdout",
     "output_type": "stream",
     "text": [
      "   col1 col2  col3\n",
      "0   1.0    a  10.0\n",
      "1   2.0    b  20.0\n",
      "2   3.0    c  30.0\n",
      "3   4.0    d  40.0\n",
      "4   5.0    e  40.0\n"
     ]
    }
   ],
   "source": [
    "import pandas as pd\n",
    "import numpy as np\n",
    "\n",
    "# Sample DataFrame with a column that might be inferred as 'object'\n",
    "data = {'col1': [1, 2, np.nan, 4, 5],\n",
    "        'col2': ['a', 'b', 'c', 'd', 'e'], # This column will remain 'object'\n",
    "        'col3': [10.0, np.nan, 30.0, 40.0, np.nan]}\n",
    "obs = pd.DataFrame(data)\n",
    "\n",
    "# Infer optimal dtypes for object columns\n",
    "\n",
    "# Now, perform the interpolation\n",
    "# obs.infer_objects(copy=False)\n",
    "# print(obs.dtypes)\n",
    "\n",
    "numeric_cols = obs.select_dtypes(include=['number']).columns\n",
    "obs[numeric_cols] = obs[numeric_cols].interpolate(method=\"linear\", limit_direction=\"both\")\n",
    "# obs.interpolate(method=\"linear\", limit_direction=\"both\", inplace=True)\n",
    "\n",
    "print(obs)"
   ]
  },
  {
   "cell_type": "code",
   "execution_count": 2,
   "id": "bddeb3c9-65c7-4dff-ae94-e57832e15eb5",
   "metadata": {},
   "outputs": [],
   "source": [
    "from jaxtyping import Array, Float, Int\n",
    "\n",
    "Float_1D = Float[Array, \"dim1\"]"
   ]
  }
 ],
 "metadata": {
  "kernelspec": {
   "display_name": "Python 3 (ipykernel)",
   "language": "python",
   "name": "python3"
  },
  "language_info": {
   "codemirror_mode": {
    "name": "ipython",
    "version": 3
   },
   "file_extension": ".py",
   "mimetype": "text/x-python",
   "name": "python",
   "nbconvert_exporter": "python",
   "pygments_lexer": "ipython3",
   "version": "3.13.0"
  }
 },
 "nbformat": 4,
 "nbformat_minor": 5
}
