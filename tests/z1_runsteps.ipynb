{
 "cells": [
  {
   "cell_type": "code",
   "execution_count": 13,
   "id": "743faa4c-53e1-484c-b58c-754d85ec8bd8",
   "metadata": {},
   "outputs": [],
   "source": [
    "from os import path\n",
    "import json\n",
    "import logging\n",
    "\n",
    "import time\n",
    "from datetime import datetime\n",
    "\n",
    "import jax\n",
    "from pathlib import Path\n",
    "\n",
    "import jax_canveg\n",
    "from jax_canveg import train_model\n",
    "from jax_canveg.shared_utilities import tune_jax_naninfs_for_debug\n",
    "\n",
    "jax.config.update(\"jax_enable_x64\", True)\n",
    "jax.config.update(\"jax_traceback_filtering\", \"off\")\n",
    "tune_jax_naninfs_for_debug(False)"
   ]
  },
  {
   "cell_type": "code",
   "execution_count": 39,
   "id": "814a36c2-3481-4509-85b8-d6346ced15c9",
   "metadata": {},
   "outputs": [],
   "source": [
    "from jax_canveg.shared_utilities.optim import perform_optimization_batch"
   ]
  },
  {
   "cell_type": "code",
   "execution_count": 41,
   "id": "9ce6055e-8ca6-4f7a-a3c4-0a45e46b0125",
   "metadata": {},
   "outputs": [],
   "source": [
    "import logging\n",
    "logging.basicConfig(level=logging.INFO, format='%(levelname)s: %(message)s')"
   ]
  },
  {
   "cell_type": "code",
   "execution_count": 21,
   "id": "f3b96562-185a-4d50-bc19-b0a5a64450f6",
   "metadata": {},
   "outputs": [
    {
     "data": {
      "text/plain": [
       "'/home/kong/GitHub/CUG-Hydro/JAX-CanVeg/tests'"
      ]
     },
     "execution_count": 21,
     "metadata": {},
     "output_type": "execute_result"
    }
   ],
   "source": [
    "configs = path.abspath(\"./PB-1L-0.0/configs.json\")\n",
    "cwd = path.abspath(path.curdir)\n",
    "cwd"
   ]
  },
  {
   "cell_type": "code",
   "execution_count": 26,
   "id": "afb4bbf9-4b41-4e51-bd50-6011d0e3e149",
   "metadata": {},
   "outputs": [],
   "source": [
    "indir = os.path.dirname(configs)\n",
    "f_configs = os.path.basename(configs)\n",
    "indir\n",
    "os.chdir(indir)"
   ]
  },
  {
   "cell_type": "code",
   "execution_count": 27,
   "id": "d8ff9dbf-74a9-4229-8ee2-0b8ce7db5f28",
   "metadata": {},
   "outputs": [
    {
     "data": {
      "text/plain": [
       "'/home/kong/GitHub/CUG-Hydro/JAX-CanVeg/tests/PB-1L-0.0'"
      ]
     },
     "execution_count": 27,
     "metadata": {},
     "output_type": "execute_result"
    }
   ],
   "source": [
    "path.abspath(path.curdir)"
   ]
  },
  {
   "cell_type": "code",
   "execution_count": 30,
   "id": "c561cbcd-e528-4390-a3c3-b3a2d45f9250",
   "metadata": {},
   "outputs": [],
   "source": [
    "from jax_canveg.train_model import parse_config\n",
    "(\n",
    "    model,\n",
    "    filter_model_spec,\n",
    "    batched_met,\n",
    "    batched_y,\n",
    "    hyperparams,\n",
    "    para_min,\n",
    "    para_max,\n",
    "    output_funcs,\n",
    "    loss_func,\n",
    "    optim,\n",
    "    nsteps,\n",
    "    configs,\n",
    ") = parse_config(config)"
   ]
  },
  {
   "cell_type": "code",
   "execution_count": 43,
   "id": "b4208851-b28b-4358-a50a-a24209bf46ef",
   "metadata": {},
   "outputs": [
    {
     "data": {
      "text/plain": [
       "5"
      ]
     },
     "execution_count": 43,
     "metadata": {},
     "output_type": "execute_result"
    }
   ],
   "source": [
    "nsteps"
   ]
  },
  {
   "cell_type": "code",
   "execution_count": 31,
   "id": "7622262a-e5c3-40d5-a6b6-b32aad2085d3",
   "metadata": {},
   "outputs": [],
   "source": [
    "batched_y_train, batched_y_test = batched_y[0], batched_y[1]\n",
    "batched_met_train, batched_met_test = batched_met[0], batched_met[1]"
   ]
  },
  {
   "cell_type": "code",
   "execution_count": 36,
   "id": "0ceb190d-fe0d-4200-9913-a916e132f35e",
   "metadata": {},
   "outputs": [
    {
     "data": {
      "text/plain": [
       "jaxlib._jax.ArrayImpl"
      ]
     },
     "execution_count": 36,
     "metadata": {},
     "output_type": "execute_result"
    }
   ],
   "source": [
    "type(batched_y_train)"
   ]
  },
  {
   "cell_type": "code",
   "execution_count": 37,
   "id": "3d38ca7f-ceb4-4f77-ba8b-3bb2f6845bf7",
   "metadata": {},
   "outputs": [
    {
     "data": {
      "text/plain": [
       "jax_canveg.subjects.meterology.Met"
      ]
     },
     "execution_count": 37,
     "metadata": {},
     "output_type": "execute_result"
    }
   ],
   "source": [
    "type(batched_met_train)"
   ]
  },
  {
   "cell_type": "code",
   "execution_count": 42,
   "id": "b7d327fe-0cf8-442b-b280-137400851c02",
   "metadata": {},
   "outputs": [
    {
     "name": "stdout",
     "output_type": "stream",
     "text": [
      "Compiling make_step ...\n",
      "Compiling make_step ...\n"
     ]
    }
   ],
   "source": [
    "# Train the model\n",
    "(\n",
    "    model_new,\n",
    "    loss_train_set,\n",
    "    loss_test_set,\n",
    ") = perform_optimization_batch(  # pyright: ignore\n",
    "    model.get_fixed_point_states,  # pyright: ignore\n",
    "    filter_model_spec.get_fixed_point_states,\n",
    "    optim,\n",
    "    nsteps,\n",
    "    loss_func,\n",
    "    batched_y_train,\n",
    "    batched_met_train,\n",
    "    batched_y_test,\n",
    "    batched_met_test,\n",
    "    para_min,\n",
    "    para_max,\n",
    "    *output_funcs,\n",
    ")"
   ]
  },
  {
   "cell_type": "code",
   "execution_count": 48,
   "id": "b6344804-d3b5-424f-bc52-61642eb96583",
   "metadata": {
    "scrolled": true
   },
   "outputs": [
    {
     "data": {
      "text/plain": [
       "BoundMethod(\n",
       "  __func__=<function CanvegIFT.get_fixed_point_states>,\n",
       "  __self__=CanvegIFT(\n",
       "    para=Para(\n",
       "      zht1=weak_f64[1],\n",
       "      zht2=weak_f64[50],\n",
       "      delz1=f64[1],\n",
       "      delz2=f64[50],\n",
       "      soil_depth=weak_f64[],\n",
       "      leaf_clumping_factor=f64[],\n",
       "      par_reflect=f64[],\n",
       "      par_trans=f64[],\n",
       "      par_soil_refl=f64[],\n",
       "      nir_reflect=f64[],\n",
       "      nir_trans=f64[],\n",
       "      nir_soil_refl=f64[],\n",
       "      sigma=weak_f64[],\n",
       "      ep=f64[],\n",
       "      epsoil=f64[],\n",
       "      rugc=weak_f64[],\n",
       "      rgc1000=weak_f64[],\n",
       "      Cp=weak_f64[],\n",
       "      vcopt=f64[],\n",
       "      jmopt=f64[],\n",
       "      rd25=f64[],\n",
       "      hkin=weak_f64[],\n",
       "      skin=weak_f64[],\n",
       "      ejm=weak_f64[],\n",
       "      evc=weak_f64[],\n",
       "      kc25=weak_f64[],\n",
       "      ko25=weak_f64[],\n",
       "      o2=weak_f64[],\n",
       "      ekc=weak_f64[],\n",
       "      eko=weak_f64[],\n",
       "      erd=weak_f64[],\n",
       "      ektau=weak_f64[],\n",
       "      tk_25=weak_f64[],\n",
       "      toptvc=f64[],\n",
       "      toptjm=f64[],\n",
       "      kball=f64[],\n",
       "      bprime=f64[],\n",
       "      rsm=weak_f64[],\n",
       "      brs=weak_f64[],\n",
       "      qalpha=f64[],\n",
       "      lleaf=f64[],\n",
       "      theta_min=weak_f64[],\n",
       "      theta_max=weak_f64[],\n",
       "      nuvisc=weak_f64[],\n",
       "      dc=weak_f64[],\n",
       "      dh=weak_f64[],\n",
       "      dv=weak_f64[],\n",
       "      do3=weak_f64[],\n",
       "      betfac=weak_f64[],\n",
       "      Mair=weak_f64[],\n",
       "      dLdT=weak_f64[],\n",
       "      extinct=weak_f64[],\n",
       "      q10a=f64[],\n",
       "      q10b=f64[],\n",
       "      q10c=f64[],\n",
       "      RsoilDL=MLP(\n",
       "        layers=(\n",
       "          Linear(\n",
       "            weight=f64[6,2],\n",
       "            bias=f64[6],\n",
       "            in_features=2,\n",
       "            out_features=6,\n",
       "            use_bias=True\n",
       "          ),\n",
       "          Linear(\n",
       "            weight=f64[6,6],\n",
       "            bias=f64[6],\n",
       "            in_features=6,\n",
       "            out_features=6,\n",
       "            use_bias=True\n",
       "          ),\n",
       "          Linear(\n",
       "            weight=f64[1,6],\n",
       "            bias=f64[1],\n",
       "            in_features=6,\n",
       "            out_features=1,\n",
       "            use_bias=True\n",
       "          )\n",
       "        )\n",
       "      ),\n",
       "      LeafRHDL=MLP2(\n",
       "        layers=(\n",
       "          Linear(\n",
       "            weight=f64[6,2],\n",
       "            bias=f64[6],\n",
       "            in_features=2,\n",
       "            out_features=6,\n",
       "            use_bias=True\n",
       "          ),\n",
       "          Linear(\n",
       "            weight=f64[6,6],\n",
       "            bias=f64[6],\n",
       "            in_features=6,\n",
       "            out_features=6,\n",
       "            use_bias=True\n",
       "          ),\n",
       "          Linear(\n",
       "            weight=f64[1,6],\n",
       "            bias=f64[1],\n",
       "            in_features=6,\n",
       "            out_features=1,\n",
       "            use_bias=True\n",
       "          )\n",
       "        )\n",
       "      ),\n",
       "      bprimeDL=MLP2(\n",
       "        layers=(\n",
       "          Linear(\n",
       "            weight=f64[6,4],\n",
       "            bias=f64[6],\n",
       "            in_features=4,\n",
       "            out_features=6,\n",
       "            use_bias=True\n",
       "          ),\n",
       "          Linear(\n",
       "            weight=f64[6,6],\n",
       "            bias=f64[6],\n",
       "            in_features=6,\n",
       "            out_features=6,\n",
       "            use_bias=True\n",
       "          ),\n",
       "          Linear(\n",
       "            weight=f64[1,6],\n",
       "            bias=f64[1],\n",
       "            in_features=6,\n",
       "            out_features=1,\n",
       "            use_bias=True\n",
       "          )\n",
       "        )\n",
       "      ),\n",
       "      gscoefDL=MLP3(\n",
       "        layers=(\n",
       "          Linear(\n",
       "            weight=f64[6,3],\n",
       "            bias=f64[6],\n",
       "            in_features=3,\n",
       "            out_features=6,\n",
       "            use_bias=True\n",
       "          ),\n",
       "          Linear(\n",
       "            weight=f64[6,6],\n",
       "            bias=f64[6],\n",
       "            in_features=6,\n",
       "            out_features=6,\n",
       "            use_bias=True\n",
       "          ),\n",
       "          Linear(\n",
       "            weight=f64[2,6],\n",
       "            bias=f64[2],\n",
       "            in_features=6,\n",
       "            out_features=2,\n",
       "            use_bias=True\n",
       "          )\n",
       "        )\n",
       "      ),\n",
       "      var_mean=VarStats(\n",
       "        T_air=f64[],\n",
       "        rglobal=f64[],\n",
       "        eair=f64[],\n",
       "        wind=f64[],\n",
       "        CO2=f64[],\n",
       "        P_kPa=f64[],\n",
       "        ustar=f64[],\n",
       "        Tsoil=f64[],\n",
       "        soilmoisture=f64[],\n",
       "        zcanopy=f64[],\n",
       "        lai=f64[],\n",
       "        rsoil=f64[],\n",
       "        LE=f64[],\n",
       "        H=f64[],\n",
       "        vpd=f64[]\n",
       "      ),\n",
       "      var_std=VarStats(\n",
       "        T_air=f64[],\n",
       "        rglobal=f64[],\n",
       "        eair=f64[],\n",
       "        wind=f64[],\n",
       "        CO2=f64[],\n",
       "        P_kPa=f64[],\n",
       "        ustar=f64[],\n",
       "        Tsoil=f64[],\n",
       "        soilmoisture=f64[],\n",
       "        zcanopy=f64[],\n",
       "        lai=f64[],\n",
       "        rsoil=f64[],\n",
       "        LE=f64[],\n",
       "        H=f64[],\n",
       "        vpd=f64[]\n",
       "      ),\n",
       "      var_max=VarStats(\n",
       "        T_air=f64[],\n",
       "        rglobal=f64[],\n",
       "        eair=f64[],\n",
       "        wind=f64[],\n",
       "        CO2=f64[],\n",
       "        P_kPa=f64[],\n",
       "        ustar=f64[],\n",
       "        Tsoil=f64[],\n",
       "        soilmoisture=f64[],\n",
       "        zcanopy=f64[],\n",
       "        lai=f64[],\n",
       "        rsoil=f64[],\n",
       "        LE=f64[],\n",
       "        H=f64[],\n",
       "        vpd=f64[]\n",
       "      ),\n",
       "      var_min=VarStats(\n",
       "        T_air=f64[],\n",
       "        rglobal=f64[],\n",
       "        eair=f64[],\n",
       "        wind=f64[],\n",
       "        CO2=f64[],\n",
       "        P_kPa=f64[],\n",
       "        ustar=f64[],\n",
       "        Tsoil=f64[],\n",
       "        soilmoisture=f64[],\n",
       "        zcanopy=f64[],\n",
       "        lai=f64[],\n",
       "        rsoil=f64[],\n",
       "        LE=f64[],\n",
       "        H=f64[],\n",
       "        vpd=f64[]\n",
       "      )\n",
       "    ),\n",
       "    dij=f64[51,1],\n",
       "    lat_deg=31.7438,\n",
       "    long_deg=-110.0522,\n",
       "    time_zone=-7,\n",
       "    leafangle=4,\n",
       "    stomata=1,\n",
       "    leafrh=0,\n",
       "    soilresp=1,\n",
       "    n_can_layers=1,\n",
       "    n_total_layers=51,\n",
       "    n_soil_layers=10,\n",
       "    dt_soil=20.0,\n",
       "    soil_mtime=90,\n",
       "    niter=15,\n",
       "    leafrh_func=<function calculate_leaf_rh_physics>,\n",
       "    soilresp_func=<function soil_respiration_q10_power>\n",
       "  )\n",
       ")"
      ]
     },
     "execution_count": 48,
     "metadata": {},
     "output_type": "execute_result"
    }
   ],
   "source": [
    "model_new"
   ]
  },
  {
   "cell_type": "code",
   "execution_count": 47,
   "id": "7e4815f9-2eb1-4f9b-bd37-79c367467e05",
   "metadata": {},
   "outputs": [
    {
     "data": {
      "text/plain": [
       "([Array(2.19795232, dtype=float64),\n",
       "  Array(1.81348904, dtype=float64),\n",
       "  Array(1.60111696, dtype=float64),\n",
       "  Array(1.64846716, dtype=float64),\n",
       "  Array(2.18794275, dtype=float64)],\n",
       " [Array(2.56130829, dtype=float64),\n",
       "  Array(2.38880659, dtype=float64),\n",
       "  Array(2.43119052, dtype=float64),\n",
       "  Array(2.77698605, dtype=float64),\n",
       "  Array(3.50306033, dtype=float64)])"
      ]
     },
     "execution_count": 47,
     "metadata": {},
     "output_type": "execute_result"
    }
   ],
   "source": [
    "loss_train_set, loss_test_set"
   ]
  }
 ],
 "metadata": {
  "kernelspec": {
   "display_name": "Python 3 (ipykernel)",
   "language": "python",
   "name": "python3"
  },
  "language_info": {
   "codemirror_mode": {
    "name": "ipython",
    "version": 3
   },
   "file_extension": ".py",
   "mimetype": "text/x-python",
   "name": "python",
   "nbconvert_exporter": "python",
   "pygments_lexer": "ipython3",
   "version": "3.13.0"
  }
 },
 "nbformat": 4,
 "nbformat_minor": 5
}
